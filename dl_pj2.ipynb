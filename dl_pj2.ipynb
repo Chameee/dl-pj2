{
  "nbformat": 4,
  "nbformat_minor": 0,
  "metadata": {
    "kernelspec": {
      "display_name": "Python 3",
      "language": "python",
      "name": "python3"
    },
    "language_info": {
      "codemirror_mode": {
        "name": "ipython",
        "version": 2
      },
      "file_extension": ".py",
      "mimetype": "text/x-python",
      "name": "python",
      "nbconvert_exporter": "python",
      "pygments_lexer": "ipython2",
      "version": "2.7.6"
    },
    "pycharm": {
      "stem_cell": {
        "cell_type": "raw",
        "source": [
          "\n"
        ],
        "metadata": {
          "collapsed": false
        }
      }
    },
    "colab": {
      "name": "dl_pj2.ipynb",
      "provenance": [],
      "include_colab_link": true
    },
    "accelerator": "GPU",
    "widgets": {
      "application/vnd.jupyter.widget-state+json": {
        "745b1e3c4dd0489282c280e2bcdda7c5": {
          "model_module": "@jupyter-widgets/controls",
          "model_name": "HBoxModel",
          "state": {
            "_view_name": "HBoxView",
            "_dom_classes": [],
            "_model_name": "HBoxModel",
            "_view_module": "@jupyter-widgets/controls",
            "_model_module_version": "1.5.0",
            "_view_count": null,
            "_view_module_version": "1.5.0",
            "box_style": "",
            "layout": "IPY_MODEL_2de0bcba3e4c44d685f7dbabff93c986",
            "_model_module": "@jupyter-widgets/controls",
            "children": [
              "IPY_MODEL_011741f2df684aa08eb792132ce0f067",
              "IPY_MODEL_e65c3df1b18041309db03e26743fcc83"
            ]
          }
        },
        "2de0bcba3e4c44d685f7dbabff93c986": {
          "model_module": "@jupyter-widgets/base",
          "model_name": "LayoutModel",
          "state": {
            "_view_name": "LayoutView",
            "grid_template_rows": null,
            "right": null,
            "justify_content": null,
            "_view_module": "@jupyter-widgets/base",
            "overflow": null,
            "_model_module_version": "1.2.0",
            "_view_count": null,
            "flex_flow": null,
            "width": null,
            "min_width": null,
            "border": null,
            "align_items": null,
            "bottom": null,
            "_model_module": "@jupyter-widgets/base",
            "top": null,
            "grid_column": null,
            "overflow_y": null,
            "overflow_x": null,
            "grid_auto_flow": null,
            "grid_area": null,
            "grid_template_columns": null,
            "flex": null,
            "_model_name": "LayoutModel",
            "justify_items": null,
            "grid_row": null,
            "max_height": null,
            "align_content": null,
            "visibility": null,
            "align_self": null,
            "height": null,
            "min_height": null,
            "padding": null,
            "grid_auto_rows": null,
            "grid_gap": null,
            "max_width": null,
            "order": null,
            "_view_module_version": "1.2.0",
            "grid_template_areas": null,
            "object_position": null,
            "object_fit": null,
            "grid_auto_columns": null,
            "margin": null,
            "display": null,
            "left": null
          }
        },
        "011741f2df684aa08eb792132ce0f067": {
          "model_module": "@jupyter-widgets/controls",
          "model_name": "FloatProgressModel",
          "state": {
            "_view_name": "ProgressView",
            "style": "IPY_MODEL_9513192f0343492080c6a55fb53cde2d",
            "_dom_classes": [],
            "description": "",
            "_model_name": "FloatProgressModel",
            "bar_style": "success",
            "max": 170498071,
            "_view_module": "@jupyter-widgets/controls",
            "_model_module_version": "1.5.0",
            "value": 170498071,
            "_view_count": null,
            "_view_module_version": "1.5.0",
            "orientation": "horizontal",
            "min": 0,
            "description_tooltip": null,
            "_model_module": "@jupyter-widgets/controls",
            "layout": "IPY_MODEL_ccf06a79f5d44e4c91651108a955550b"
          }
        },
        "e65c3df1b18041309db03e26743fcc83": {
          "model_module": "@jupyter-widgets/controls",
          "model_name": "HTMLModel",
          "state": {
            "_view_name": "HTMLView",
            "style": "IPY_MODEL_b80fa1ded6454046b941f31716868591",
            "_dom_classes": [],
            "description": "",
            "_model_name": "HTMLModel",
            "placeholder": "​",
            "_view_module": "@jupyter-widgets/controls",
            "_model_module_version": "1.5.0",
            "value": " 170499072/? [00:17&lt;00:00, 9631077.80it/s]",
            "_view_count": null,
            "_view_module_version": "1.5.0",
            "description_tooltip": null,
            "_model_module": "@jupyter-widgets/controls",
            "layout": "IPY_MODEL_8a677d401ccc435a940a419624d90500"
          }
        },
        "9513192f0343492080c6a55fb53cde2d": {
          "model_module": "@jupyter-widgets/controls",
          "model_name": "ProgressStyleModel",
          "state": {
            "_view_name": "StyleView",
            "_model_name": "ProgressStyleModel",
            "description_width": "initial",
            "_view_module": "@jupyter-widgets/base",
            "_model_module_version": "1.5.0",
            "_view_count": null,
            "_view_module_version": "1.2.0",
            "bar_color": null,
            "_model_module": "@jupyter-widgets/controls"
          }
        },
        "ccf06a79f5d44e4c91651108a955550b": {
          "model_module": "@jupyter-widgets/base",
          "model_name": "LayoutModel",
          "state": {
            "_view_name": "LayoutView",
            "grid_template_rows": null,
            "right": null,
            "justify_content": null,
            "_view_module": "@jupyter-widgets/base",
            "overflow": null,
            "_model_module_version": "1.2.0",
            "_view_count": null,
            "flex_flow": null,
            "width": null,
            "min_width": null,
            "border": null,
            "align_items": null,
            "bottom": null,
            "_model_module": "@jupyter-widgets/base",
            "top": null,
            "grid_column": null,
            "overflow_y": null,
            "overflow_x": null,
            "grid_auto_flow": null,
            "grid_area": null,
            "grid_template_columns": null,
            "flex": null,
            "_model_name": "LayoutModel",
            "justify_items": null,
            "grid_row": null,
            "max_height": null,
            "align_content": null,
            "visibility": null,
            "align_self": null,
            "height": null,
            "min_height": null,
            "padding": null,
            "grid_auto_rows": null,
            "grid_gap": null,
            "max_width": null,
            "order": null,
            "_view_module_version": "1.2.0",
            "grid_template_areas": null,
            "object_position": null,
            "object_fit": null,
            "grid_auto_columns": null,
            "margin": null,
            "display": null,
            "left": null
          }
        },
        "b80fa1ded6454046b941f31716868591": {
          "model_module": "@jupyter-widgets/controls",
          "model_name": "DescriptionStyleModel",
          "state": {
            "_view_name": "StyleView",
            "_model_name": "DescriptionStyleModel",
            "description_width": "",
            "_view_module": "@jupyter-widgets/base",
            "_model_module_version": "1.5.0",
            "_view_count": null,
            "_view_module_version": "1.2.0",
            "_model_module": "@jupyter-widgets/controls"
          }
        },
        "8a677d401ccc435a940a419624d90500": {
          "model_module": "@jupyter-widgets/base",
          "model_name": "LayoutModel",
          "state": {
            "_view_name": "LayoutView",
            "grid_template_rows": null,
            "right": null,
            "justify_content": null,
            "_view_module": "@jupyter-widgets/base",
            "overflow": null,
            "_model_module_version": "1.2.0",
            "_view_count": null,
            "flex_flow": null,
            "width": null,
            "min_width": null,
            "border": null,
            "align_items": null,
            "bottom": null,
            "_model_module": "@jupyter-widgets/base",
            "top": null,
            "grid_column": null,
            "overflow_y": null,
            "overflow_x": null,
            "grid_auto_flow": null,
            "grid_area": null,
            "grid_template_columns": null,
            "flex": null,
            "_model_name": "LayoutModel",
            "justify_items": null,
            "grid_row": null,
            "max_height": null,
            "align_content": null,
            "visibility": null,
            "align_self": null,
            "height": null,
            "min_height": null,
            "padding": null,
            "grid_auto_rows": null,
            "grid_gap": null,
            "max_width": null,
            "order": null,
            "_view_module_version": "1.2.0",
            "grid_template_areas": null,
            "object_position": null,
            "object_fit": null,
            "grid_auto_columns": null,
            "margin": null,
            "display": null,
            "left": null
          }
        }
      }
    }
  },
  "cells": [
    {
      "cell_type": "markdown",
      "metadata": {
        "id": "view-in-github",
        "colab_type": "text"
      },
      "source": [
        "<a href=\"https://colab.research.google.com/github/Chameee/dl-pj2/blob/master/dl_pj2.ipynb\" target=\"_parent\"><img src=\"https://colab.research.google.com/assets/colab-badge.svg\" alt=\"Open In Colab\"/></a>"
      ]
    },
    {
      "cell_type": "markdown",
      "metadata": {
        "collapsed": false,
        "id": "Z-WY_owPYDXD"
      },
      "source": [
        "# Project 2"
      ]
    },
    {
      "cell_type": "code",
      "metadata": {
        "pycharm": {
          "name": "#%%\n"
        },
        "id": "ZwrYxVJQYDXG"
      },
      "source": [
        "import torch\n",
        "import torchvision\n",
        "import torchvision.transforms as transforms\n",
        "import torch.nn as nn\n",
        "import torch.nn.functional as F\n",
        "import torch.optim as optim\n",
        "from torchvision.datasets import CIFAR10\n",
        "from torch.utils.data import DataLoader"
      ],
      "execution_count": 1,
      "outputs": []
    },
    {
      "cell_type": "markdown",
      "metadata": {
        "collapsed": false,
        "pycharm": {
          "name": "#%% md\n"
        },
        "id": "_cvICgZqYDXG"
      },
      "source": [
        "## Load CIFAR-10 Dataset"
      ]
    },
    {
      "cell_type": "code",
      "metadata": {
        "pycharm": {
          "name": "#%%\n"
        },
        "colab": {
          "base_uri": "https://localhost:8080/",
          "height": 117,
          "referenced_widgets": [
            "745b1e3c4dd0489282c280e2bcdda7c5",
            "2de0bcba3e4c44d685f7dbabff93c986",
            "011741f2df684aa08eb792132ce0f067",
            "e65c3df1b18041309db03e26743fcc83",
            "9513192f0343492080c6a55fb53cde2d",
            "ccf06a79f5d44e4c91651108a955550b",
            "b80fa1ded6454046b941f31716868591",
            "8a677d401ccc435a940a419624d90500"
          ]
        },
        "id": "uNXXKE_fYDXH",
        "outputId": "9a56aadd-6b58-478a-b09a-e75b17154026"
      },
      "source": [
        "transform = transforms.Compose(\n",
        "    [transforms.ToTensor(),\n",
        "     transforms.Normalize((0.5, 0.5, 0.5), (0.5, 0.5, 0.5))])\n",
        "# transform = transforms.Compose(\n",
        "#     [transforms.ToTensor()])\n",
        "\n",
        "\n",
        "batch_size = 4\n",
        "\n",
        "######################################################################\n",
        "# 1. Prepare CIFAR-10 training and testing data.\n",
        "######################################################################\n",
        "\n",
        "train_dataset = CIFAR10(root='./data', train=True,\n",
        "                                             download=True, transform=transform)\n",
        "train_dataloader = DataLoader(train_dataset, batch_size=batch_size,\n",
        "                                               shuffle=True, num_workers=2)\n",
        "\n",
        "test_dataset = CIFAR10(root='./data', train=False,\n",
        "                                            download=True, transform=transform)\n",
        "test_dataloader = DataLoader(test_dataset, batch_size=batch_size,\n",
        "                                              shuffle=False, num_workers=2)\n"
      ],
      "execution_count": 2,
      "outputs": [
        {
          "output_type": "stream",
          "text": [
            "Downloading https://www.cs.toronto.edu/~kriz/cifar-10-python.tar.gz to ./data/cifar-10-python.tar.gz\n"
          ],
          "name": "stdout"
        },
        {
          "output_type": "display_data",
          "data": {
            "application/vnd.jupyter.widget-view+json": {
              "model_id": "745b1e3c4dd0489282c280e2bcdda7c5",
              "version_minor": 0,
              "version_major": 2
            },
            "text/plain": [
              "HBox(children=(FloatProgress(value=0.0, max=170498071.0), HTML(value='')))"
            ]
          },
          "metadata": {
            "tags": []
          }
        },
        {
          "output_type": "stream",
          "text": [
            "\n",
            "Extracting ./data/cifar-10-python.tar.gz to ./data\n",
            "Files already downloaded and verified\n"
          ],
          "name": "stdout"
        }
      ]
    },
    {
      "cell_type": "code",
      "metadata": {
        "pycharm": {
          "name": "#%%\n"
        },
        "colab": {
          "base_uri": "https://localhost:8080/"
        },
        "id": "3HbygI5pYDXI",
        "outputId": "c984d35b-b5dc-4046-e0bf-984ca2bb95c5"
      },
      "source": [
        "len(train_dataloader)\n",
        "len(test_dataloader)"
      ],
      "execution_count": 3,
      "outputs": [
        {
          "output_type": "execute_result",
          "data": {
            "text/plain": [
              "2500"
            ]
          },
          "metadata": {
            "tags": []
          },
          "execution_count": 3
        }
      ]
    },
    {
      "cell_type": "code",
      "metadata": {
        "pycharm": {
          "name": "#%%\n"
        },
        "colab": {
          "base_uri": "https://localhost:8080/"
        },
        "id": "kBpRKYuDYDXI",
        "outputId": "469372e5-8c42-4972-8f70-717552d1fc49"
      },
      "source": [
        "next(iter(train_dataloader))[0][0].size()"
      ],
      "execution_count": 4,
      "outputs": [
        {
          "output_type": "execute_result",
          "data": {
            "text/plain": [
              "torch.Size([3, 32, 32])"
            ]
          },
          "metadata": {
            "tags": []
          },
          "execution_count": 4
        }
      ]
    },
    {
      "cell_type": "code",
      "metadata": {
        "pycharm": {
          "name": "#%%\n"
        },
        "id": "P6r4CsK5YDXJ"
      },
      "source": [
        "import matplotlib.pyplot as plt"
      ],
      "execution_count": 5,
      "outputs": []
    },
    {
      "cell_type": "code",
      "metadata": {
        "pycharm": {
          "name": "#%%\n"
        },
        "id": "2SZZDn6-YDXJ"
      },
      "source": [
        "import numpy as np"
      ],
      "execution_count": 6,
      "outputs": []
    },
    {
      "cell_type": "code",
      "metadata": {
        "pycharm": {
          "name": "#%%\n"
        },
        "colab": {
          "base_uri": "https://localhost:8080/"
        },
        "id": "IKLepaj3YDXK",
        "outputId": "322ba44d-2011-4d98-873d-4b428b7f1da0"
      },
      "source": [
        "len(train_dataset.targets)"
      ],
      "execution_count": 7,
      "outputs": [
        {
          "output_type": "execute_result",
          "data": {
            "text/plain": [
              "50000"
            ]
          },
          "metadata": {
            "tags": []
          },
          "execution_count": 7
        }
      ]
    },
    {
      "cell_type": "code",
      "metadata": {
        "pycharm": {
          "name": "#%%\n"
        },
        "id": "JfDvlM3eYDXK"
      },
      "source": [
        "data, label = train_dataset[0]"
      ],
      "execution_count": 8,
      "outputs": []
    },
    {
      "cell_type": "markdown",
      "metadata": {
        "collapsed": false,
        "pycharm": {
          "name": "#%% md\n"
        },
        "id": "H3kFEV9oYDXK"
      },
      "source": [
        "## Visualize some training examples"
      ]
    },
    {
      "cell_type": "code",
      "metadata": {
        "pycharm": {
          "name": "#%%\n"
        },
        "colab": {
          "base_uri": "https://localhost:8080/",
          "height": 155
        },
        "id": "4I2SagRpYDXL",
        "outputId": "340c8d0b-88f9-48ec-fb6b-07d2208c6928"
      },
      "source": [
        "classes = ('plane', 'car', 'bird', 'cat',\n",
        "           'deer', 'dog', 'frog', 'horse', 'ship', 'truck')\n",
        "\n",
        "def imshow(img):\n",
        "    img = img / 2 + 0.5     # unnormalize\n",
        "    npimg = img.numpy()\n",
        "    plt.imshow(np.transpose(npimg, (1, 2, 0)))\n",
        "    plt.show()\n",
        "\n",
        "\n",
        "# get some random training images\n",
        "dataiter = iter(train_dataloader)\n",
        "images, labels = dataiter.next()\n",
        "\n",
        "# show images\n",
        "imshow(torchvision.utils.make_grid(images))\n",
        "# print labels\n",
        "print(' '.join('%5s' % classes[labels[j]] for j in range(batch_size)))\n"
      ],
      "execution_count": 9,
      "outputs": [
        {
          "output_type": "display_data",
          "data": {
            "image/png": "[encoded data removed]",
            "text/plain": [
              "<Figure size 432x288 with 1 Axes>"
            ]
          },
          "metadata": {
            "tags": [],
            "needs_background": "light"
          }
        },
        {
          "output_type": "stream",
          "text": [
            " frog  bird  deer   cat\n"
          ],
          "name": "stdout"
        }
      ]
    },
    {
      "cell_type": "markdown",
      "metadata": {
        "collapsed": false,
        "pycharm": {
          "name": "#%% md\n"
        },
        "id": "CArMRDNXYDXL"
      },
      "source": [
        "## Get device for training"
      ]
    },
    {
      "cell_type": "code",
      "metadata": {
        "pycharm": {
          "name": "#%%\n"
        },
        "colab": {
          "base_uri": "https://localhost:8080/"
        },
        "id": "A-qg8kGdYDXL",
        "outputId": "2251ee46-cd90-42e5-b9b5-c9e8ad8e8f88"
      },
      "source": [
        "device = 'cuda' if torch.cuda.is_available() else 'cpu'\n",
        "print('Using {} device'.format(device))"
      ],
      "execution_count": 10,
      "outputs": [
        {
          "output_type": "stream",
          "text": [
            "Using cuda device\n"
          ],
          "name": "stdout"
        }
      ]
    },
    {
      "cell_type": "markdown",
      "metadata": {
        "collapsed": false,
        "pycharm": {
          "name": "#%% md\n"
        },
        "id": "8Ck9rOL3YDXM"
      },
      "source": [
        "## Define the Class of neural network\n"
      ]
    },
    {
      "cell_type": "code",
      "metadata": {
        "pycharm": {
          "name": "#%%\n"
        },
        "id": "obUVRnwmYDXM"
      },
      "source": [
        "class SimpleNeuralNetwork(nn.Module):\n",
        "    def __init__(self):\n",
        "        super(SimpleNeuralNetwork, self).__init__()\n",
        "        self.flatten = nn.Flatten()\n",
        "        self.conv1 = nn.Conv2d(in_channels=3,out_channels=64, kernel_size=5, stride=1, padding=0)\n",
        "        self.bn1 = nn.BatchNorm2d(num_features=64)\n",
        "        self.pooling = nn.MaxPool2d(5, stride=2, padding=0)\n",
        "        self.conv2 = nn.Conv2d(in_channels=64, out_channels=256, kernel_size=5, stride=1, padding=0)\n",
        "        self.bn2 = nn.BatchNorm2d(num_features=256)\n",
        "        self.conv3 = nn.Sequential(\n",
        "            nn.Conv2d(256, 384, 3, padding=1),  # (b x 384 x 13 x 13)\n",
        "            nn.ReLU(),\n",
        "            nn.Conv2d(384, 384, 3, padding=1),  # (b x 384 x 13 x 13)\n",
        "            nn.ReLU(),\n",
        "            nn.Conv2d(384, 256, 3, padding=1),  # (b x 256 x 13 x 13)\n",
        "            nn.ReLU(),\n",
        "            nn.MaxPool2d(kernel_size=3, stride=2),  # (b x 256 x 6 x 6)\n",
        ")\n",
        "        self.linear_relu_stack = nn.Sequential(\n",
        "            nn.Dropout(p=0.5, inplace=True),\n",
        "            nn.Linear(in_features=(16384), out_features=4096),\n",
        "            nn.ReLU(),\n",
        "            nn.Dropout(p=0.5, inplace=True),\n",
        "            nn.Linear(in_features=4096, out_features=4096),\n",
        "            nn.ReLU(),\n",
        "            nn.Linear(in_features=4096, out_features=10),\n",
        "        )\n",
        "\n",
        "    def forward(self, x):\n",
        "        out = self.conv1(x)\n",
        "        out = self.bn1(out)\n",
        "        out = self.pooling(out)\n",
        "        out = self.conv2(out)\n",
        "        out = self.bn2(out)\n",
        "        out = self.flatten(out)\n",
        "        out = self.linear_relu_stack(out)\n",
        "        return out"
      ],
      "execution_count": 11,
      "outputs": []
    },
    {
      "cell_type": "markdown",
      "metadata": {
        "collapsed": false,
        "pycharm": {
          "name": "#%% md\n"
        },
        "id": "anfEaH1VYDXN"
      },
      "source": [
        "## Define training process"
      ]
    },
    {
      "cell_type": "code",
      "metadata": {
        "pycharm": {
          "name": "#%%\n"
        },
        "id": "g_K72SaBYDXN"
      },
      "source": [
        "learning_rate = 0.001\n",
        "batch_size = 4\n",
        "epochs = 5\n"
      ],
      "execution_count": 12,
      "outputs": []
    },
    {
      "cell_type": "code",
      "metadata": {
        "pycharm": {
          "name": "#%%\n"
        },
        "id": "twg9G1o6YDXN"
      },
      "source": [
        "model = SimpleNeuralNetwork().to(device)\n",
        "loss_fn = nn.CrossEntropyLoss()\n",
        "optimizer = torch.optim.SGD(model.parameters(), lr=learning_rate)\n",
        "# optimizer = torch.optim.adam(model.parameters(), learning_rate)\n"
      ],
      "execution_count": 13,
      "outputs": []
    },
    {
      "cell_type": "code",
      "metadata": {
        "pycharm": {
          "name": "#%%\n"
        },
        "id": "-E2Cru-wYDXN"
      },
      "source": [
        "def train_loop(dataloader, model, loss_fn, optimizer):\n",
        "    size = len(dataloader.dataset)\n",
        "    for batch, (X, y) in enumerate(dataloader):\n",
        "        # Compute prediction and loss\n",
        "        pred = model(X.to(device)).to(device)\n",
        "        loss = loss_fn(pred, y.to(device)).to(device)\n",
        "\n",
        "        # Backpropagation\n",
        "        optimizer.zero_grad()\n",
        "        loss.backward()\n",
        "        optimizer.step()\n",
        "\n",
        "        if batch % 1000 == 0:\n",
        "            loss, current = loss.item(), batch * len(X)\n",
        "            print(f\"loss: {loss:>7f}  [{current:>5d}/{size:>5d}]\")\n",
        "\n",
        "\n",
        "def test_loop(dataloader, model, loss_fn):\n",
        "    size = len(dataloader.dataset)\n",
        "    test_loss, correct = 0, 0\n",
        "\n",
        "    with torch.no_grad():\n",
        "        for X, y in dataloader:\n",
        "            pred = model(X.to(device)).to(device)\n",
        "            test_loss += loss_fn(pred, y.to(device)).item()\n",
        "            correct += (pred.argmax(1) == y.to(device)).type(torch.float).sum().item()\n",
        "\n",
        "    test_loss /= size\n",
        "    correct /= size\n",
        "    print(f\"Test Error: \\n Accuracy: {(100*correct):>0.1f}%, Avg loss: {test_loss:>8f} \\n\")\n"
      ],
      "execution_count": 14,
      "outputs": []
    },
    {
      "cell_type": "code",
      "metadata": {
        "pycharm": {
          "name": "#%%\n"
        },
        "colab": {
          "base_uri": "https://localhost:8080/",
          "height": 306
        },
        "id": "2Mbe0BkpYDXO",
        "outputId": "bd1e382c-5306-44b2-e286-465813d6408e"
      },
      "source": [
        "model.load_state_dict(torch.load(f'./model_withoutbn_epo20'))"
      ],
      "execution_count": 15,
      "outputs": [
        {
          "output_type": "error",
          "ename": "FileNotFoundError",
          "evalue": "ignored",
          "traceback": [
            "\u001b[0;31m---------------------------------------------------------------------------\u001b[0m",
            "\u001b[0;31mFileNotFoundError\u001b[0m                         Traceback (most recent call last)",
            "\u001b[0;32m<ipython-input-15-2bc4cf226100>\u001b[0m in \u001b[0;36m<module>\u001b[0;34m()\u001b[0m\n\u001b[0;32m----> 1\u001b[0;31m \u001b[0mmodel\u001b[0m\u001b[0;34m.\u001b[0m\u001b[0mload_state_dict\u001b[0m\u001b[0;34m(\u001b[0m\u001b[0mtorch\u001b[0m\u001b[0;34m.\u001b[0m\u001b[0mload\u001b[0m\u001b[0;34m(\u001b[0m\u001b[0;34mf'./model_withoutbn_epo20'\u001b[0m\u001b[0;34m)\u001b[0m\u001b[0;34m)\u001b[0m\u001b[0;34m\u001b[0m\u001b[0;34m\u001b[0m\u001b[0m\n\u001b[0m",
            "\u001b[0;32m/usr/local/lib/python3.7/dist-packages/torch/serialization.py\u001b[0m in \u001b[0;36mload\u001b[0;34m(f, map_location, pickle_module, **pickle_load_args)\u001b[0m\n\u001b[1;32m    592\u001b[0m         \u001b[0mpickle_load_args\u001b[0m\u001b[0;34m[\u001b[0m\u001b[0;34m'encoding'\u001b[0m\u001b[0;34m]\u001b[0m \u001b[0;34m=\u001b[0m \u001b[0;34m'utf-8'\u001b[0m\u001b[0;34m\u001b[0m\u001b[0;34m\u001b[0m\u001b[0m\n\u001b[1;32m    593\u001b[0m \u001b[0;34m\u001b[0m\u001b[0m\n\u001b[0;32m--> 594\u001b[0;31m     \u001b[0;32mwith\u001b[0m \u001b[0m_open_file_like\u001b[0m\u001b[0;34m(\u001b[0m\u001b[0mf\u001b[0m\u001b[0;34m,\u001b[0m \u001b[0;34m'rb'\u001b[0m\u001b[0;34m)\u001b[0m \u001b[0;32mas\u001b[0m \u001b[0mopened_file\u001b[0m\u001b[0;34m:\u001b[0m\u001b[0;34m\u001b[0m\u001b[0;34m\u001b[0m\u001b[0m\n\u001b[0m\u001b[1;32m    595\u001b[0m         \u001b[0;32mif\u001b[0m \u001b[0m_is_zipfile\u001b[0m\u001b[0;34m(\u001b[0m\u001b[0mopened_file\u001b[0m\u001b[0;34m)\u001b[0m\u001b[0;34m:\u001b[0m\u001b[0;34m\u001b[0m\u001b[0;34m\u001b[0m\u001b[0m\n\u001b[1;32m    596\u001b[0m             \u001b[0;31m# The zipfile reader is going to advance the current file position.\u001b[0m\u001b[0;34m\u001b[0m\u001b[0;34m\u001b[0m\u001b[0;34m\u001b[0m\u001b[0m\n",
            "\u001b[0;32m/usr/local/lib/python3.7/dist-packages/torch/serialization.py\u001b[0m in \u001b[0;36m_open_file_like\u001b[0;34m(name_or_buffer, mode)\u001b[0m\n\u001b[1;32m    228\u001b[0m \u001b[0;32mdef\u001b[0m \u001b[0m_open_file_like\u001b[0m\u001b[0;34m(\u001b[0m\u001b[0mname_or_buffer\u001b[0m\u001b[0;34m,\u001b[0m \u001b[0mmode\u001b[0m\u001b[0;34m)\u001b[0m\u001b[0;34m:\u001b[0m\u001b[0;34m\u001b[0m\u001b[0;34m\u001b[0m\u001b[0m\n\u001b[1;32m    229\u001b[0m     \u001b[0;32mif\u001b[0m \u001b[0m_is_path\u001b[0m\u001b[0;34m(\u001b[0m\u001b[0mname_or_buffer\u001b[0m\u001b[0;34m)\u001b[0m\u001b[0;34m:\u001b[0m\u001b[0;34m\u001b[0m\u001b[0;34m\u001b[0m\u001b[0m\n\u001b[0;32m--> 230\u001b[0;31m         \u001b[0;32mreturn\u001b[0m \u001b[0m_open_file\u001b[0m\u001b[0;34m(\u001b[0m\u001b[0mname_or_buffer\u001b[0m\u001b[0;34m,\u001b[0m \u001b[0mmode\u001b[0m\u001b[0;34m)\u001b[0m\u001b[0;34m\u001b[0m\u001b[0;34m\u001b[0m\u001b[0m\n\u001b[0m\u001b[1;32m    231\u001b[0m     \u001b[0;32melse\u001b[0m\u001b[0;34m:\u001b[0m\u001b[0;34m\u001b[0m\u001b[0;34m\u001b[0m\u001b[0m\n\u001b[1;32m    232\u001b[0m         \u001b[0;32mif\u001b[0m \u001b[0;34m'w'\u001b[0m \u001b[0;32min\u001b[0m \u001b[0mmode\u001b[0m\u001b[0;34m:\u001b[0m\u001b[0;34m\u001b[0m\u001b[0;34m\u001b[0m\u001b[0m\n",
            "\u001b[0;32m/usr/local/lib/python3.7/dist-packages/torch/serialization.py\u001b[0m in \u001b[0;36m__init__\u001b[0;34m(self, name, mode)\u001b[0m\n\u001b[1;32m    209\u001b[0m \u001b[0;32mclass\u001b[0m \u001b[0m_open_file\u001b[0m\u001b[0;34m(\u001b[0m\u001b[0m_opener\u001b[0m\u001b[0;34m)\u001b[0m\u001b[0;34m:\u001b[0m\u001b[0;34m\u001b[0m\u001b[0;34m\u001b[0m\u001b[0m\n\u001b[1;32m    210\u001b[0m     \u001b[0;32mdef\u001b[0m \u001b[0m__init__\u001b[0m\u001b[0;34m(\u001b[0m\u001b[0mself\u001b[0m\u001b[0;34m,\u001b[0m \u001b[0mname\u001b[0m\u001b[0;34m,\u001b[0m \u001b[0mmode\u001b[0m\u001b[0;34m)\u001b[0m\u001b[0;34m:\u001b[0m\u001b[0;34m\u001b[0m\u001b[0;34m\u001b[0m\u001b[0m\n\u001b[0;32m--> 211\u001b[0;31m         \u001b[0msuper\u001b[0m\u001b[0;34m(\u001b[0m\u001b[0m_open_file\u001b[0m\u001b[0;34m,\u001b[0m \u001b[0mself\u001b[0m\u001b[0;34m)\u001b[0m\u001b[0;34m.\u001b[0m\u001b[0m__init__\u001b[0m\u001b[0;34m(\u001b[0m\u001b[0mopen\u001b[0m\u001b[0;34m(\u001b[0m\u001b[0mname\u001b[0m\u001b[0;34m,\u001b[0m \u001b[0mmode\u001b[0m\u001b[0;34m)\u001b[0m\u001b[0;34m)\u001b[0m\u001b[0;34m\u001b[0m\u001b[0;34m\u001b[0m\u001b[0m\n\u001b[0m\u001b[1;32m    212\u001b[0m \u001b[0;34m\u001b[0m\u001b[0m\n\u001b[1;32m    213\u001b[0m     \u001b[0;32mdef\u001b[0m \u001b[0m__exit__\u001b[0m\u001b[0;34m(\u001b[0m\u001b[0mself\u001b[0m\u001b[0;34m,\u001b[0m \u001b[0;34m*\u001b[0m\u001b[0margs\u001b[0m\u001b[0;34m)\u001b[0m\u001b[0;34m:\u001b[0m\u001b[0;34m\u001b[0m\u001b[0;34m\u001b[0m\u001b[0m\n",
            "\u001b[0;31mFileNotFoundError\u001b[0m: [Errno 2] No such file or directory: './model_withoutbn_epo20'"
          ]
        }
      ]
    },
    {
      "cell_type": "code",
      "metadata": {
        "pycharm": {
          "name": "#%%\n"
        },
        "colab": {
          "base_uri": "https://localhost:8080/"
        },
        "id": "vbldbu2JYDXP",
        "outputId": "6ebf84fb-a847-4135-9e73-7d1b6e160c47"
      },
      "source": [
        "epochs = 20\n",
        "for t in range(epochs):\n",
        "    print(f\"Epoch {t+1}\\n-------------------------------\")\n",
        "    train_loop(train_dataloader, model, loss_fn, optimizer)\n",
        "    test_loop(test_dataloader, model, loss_fn)\n",
        "print(\"Done!\")"
      ],
      "execution_count": 16,
      "outputs": [
        {
          "output_type": "stream",
          "text": [
            "Epoch 1\n",
            "-------------------------------\n"
          ],
          "name": "stdout"
        },
        {
          "output_type": "stream",
          "text": [
            "/usr/local/lib/python3.7/dist-packages/torch/nn/functional.py:718: UserWarning: Named tensors and all their associated APIs are an experimental feature and subject to change. Please do not use them for anything important until they are released as stable. (Triggered internally at  /pytorch/c10/core/TensorImpl.h:1156.)\n",
            "  return torch.max_pool2d(input, kernel_size, stride, padding, dilation, ceil_mode)\n"
          ],
          "name": "stderr"
        },
        {
          "output_type": "stream",
          "text": [
            "loss: 2.460995  [    0/50000]\n",
            "loss: 1.638975  [ 4000/50000]\n",
            "loss: 0.984798  [ 8000/50000]\n",
            "loss: 1.663149  [12000/50000]\n",
            "loss: 1.806958  [16000/50000]\n",
            "loss: 1.044124  [20000/50000]\n",
            "loss: 1.649587  [24000/50000]\n",
            "loss: 1.757357  [28000/50000]\n",
            "loss: 1.701996  [32000/50000]\n",
            "loss: 1.505188  [36000/50000]\n",
            "loss: 1.717715  [40000/50000]\n",
            "loss: 1.183126  [44000/50000]\n",
            "loss: 0.759240  [48000/50000]\n",
            "Test Error: \n",
            " Accuracy: 54.7%, Avg loss: 0.324607 \n",
            "\n",
            "Epoch 2\n",
            "-------------------------------\n",
            "loss: 0.975972  [    0/50000]\n",
            "loss: 1.442956  [ 4000/50000]\n",
            "loss: 1.055853  [ 8000/50000]\n",
            "loss: 0.813128  [12000/50000]\n",
            "loss: 1.151667  [16000/50000]\n",
            "loss: 1.847835  [20000/50000]\n",
            "loss: 1.098771  [24000/50000]\n",
            "loss: 0.838584  [28000/50000]\n",
            "loss: 0.916660  [32000/50000]\n",
            "loss: 1.100603  [36000/50000]\n",
            "loss: 1.767433  [40000/50000]\n",
            "loss: 0.278031  [44000/50000]\n",
            "loss: 1.558182  [48000/50000]\n",
            "Test Error: \n",
            " Accuracy: 59.9%, Avg loss: 0.283503 \n",
            "\n",
            "Epoch 3\n",
            "-------------------------------\n",
            "loss: 1.467650  [    0/50000]\n",
            "loss: 1.141389  [ 4000/50000]\n",
            "loss: 0.838248  [ 8000/50000]\n",
            "loss: 1.566818  [12000/50000]\n",
            "loss: 1.009487  [16000/50000]\n",
            "loss: 2.096389  [20000/50000]\n",
            "loss: 0.784870  [24000/50000]\n",
            "loss: 1.969242  [28000/50000]\n",
            "loss: 1.075577  [32000/50000]\n",
            "loss: 1.453439  [36000/50000]\n",
            "loss: 1.013313  [40000/50000]\n",
            "loss: 1.130532  [44000/50000]\n",
            "loss: 1.448946  [48000/50000]\n",
            "Test Error: \n",
            " Accuracy: 63.7%, Avg loss: 0.263495 \n",
            "\n",
            "Epoch 4\n",
            "-------------------------------\n",
            "loss: 0.931666  [    0/50000]\n",
            "loss: 1.206906  [ 4000/50000]\n",
            "loss: 0.133863  [ 8000/50000]\n",
            "loss: 0.659476  [12000/50000]\n",
            "loss: 1.995607  [16000/50000]\n",
            "loss: 0.475344  [20000/50000]\n",
            "loss: 0.313249  [24000/50000]\n",
            "loss: 0.419199  [28000/50000]\n",
            "loss: 2.300593  [32000/50000]\n",
            "loss: 0.586667  [36000/50000]\n",
            "loss: 1.601195  [40000/50000]\n",
            "loss: 1.061481  [44000/50000]\n",
            "loss: 0.229993  [48000/50000]\n",
            "Test Error: \n",
            " Accuracy: 66.2%, Avg loss: 0.249071 \n",
            "\n",
            "Epoch 5\n",
            "-------------------------------\n",
            "loss: 1.348043  [    0/50000]\n",
            "loss: 0.194531  [ 4000/50000]\n",
            "loss: 0.272130  [ 8000/50000]\n",
            "loss: 0.811210  [12000/50000]\n",
            "loss: 2.360001  [16000/50000]\n",
            "loss: 1.410962  [20000/50000]\n",
            "loss: 1.382881  [24000/50000]\n",
            "loss: 1.178808  [28000/50000]\n",
            "loss: 1.746201  [32000/50000]\n",
            "loss: 0.303894  [36000/50000]\n",
            "loss: 0.496484  [40000/50000]\n",
            "loss: 0.991703  [44000/50000]\n",
            "loss: 0.756515  [48000/50000]\n",
            "Test Error: \n",
            " Accuracy: 66.8%, Avg loss: 0.239916 \n",
            "\n",
            "Epoch 6\n",
            "-------------------------------\n",
            "loss: 0.948732  [    0/50000]\n",
            "loss: 0.198203  [ 4000/50000]\n",
            "loss: 0.448718  [ 8000/50000]\n",
            "loss: 1.183755  [12000/50000]\n",
            "loss: 0.416986  [16000/50000]\n",
            "loss: 0.698059  [20000/50000]\n",
            "loss: 0.618699  [24000/50000]\n",
            "loss: 1.299337  [28000/50000]\n",
            "loss: 1.309964  [32000/50000]\n",
            "loss: 0.885858  [36000/50000]\n",
            "loss: 1.313416  [40000/50000]\n",
            "loss: 0.576823  [44000/50000]\n",
            "loss: 0.505042  [48000/50000]\n",
            "Test Error: \n",
            " Accuracy: 68.3%, Avg loss: 0.233621 \n",
            "\n",
            "Epoch 7\n",
            "-------------------------------\n",
            "loss: 0.456619  [    0/50000]\n",
            "loss: 0.470375  [ 4000/50000]\n",
            "loss: 0.997765  [ 8000/50000]\n",
            "loss: 0.542714  [12000/50000]\n",
            "loss: 0.252788  [16000/50000]\n",
            "loss: 0.359317  [20000/50000]\n",
            "loss: 0.535500  [24000/50000]\n",
            "loss: 0.827299  [28000/50000]\n",
            "loss: 1.096903  [32000/50000]\n",
            "loss: 1.172705  [36000/50000]\n",
            "loss: 0.121292  [40000/50000]\n",
            "loss: 0.799718  [44000/50000]\n",
            "loss: 1.066107  [48000/50000]\n",
            "Test Error: \n",
            " Accuracy: 68.7%, Avg loss: 0.228887 \n",
            "\n",
            "Epoch 8\n",
            "-------------------------------\n",
            "loss: 0.827237  [    0/50000]\n",
            "loss: 0.144458  [ 4000/50000]\n",
            "loss: 0.735981  [ 8000/50000]\n",
            "loss: 0.437316  [12000/50000]\n",
            "loss: 0.885926  [16000/50000]\n",
            "loss: 0.799783  [20000/50000]\n",
            "loss: 0.646494  [24000/50000]\n",
            "loss: 0.260309  [28000/50000]\n",
            "loss: 2.196213  [32000/50000]\n",
            "loss: 0.611535  [36000/50000]\n",
            "loss: 0.596610  [40000/50000]\n",
            "loss: 0.681719  [44000/50000]\n",
            "loss: 0.306925  [48000/50000]\n",
            "Test Error: \n",
            " Accuracy: 69.1%, Avg loss: 0.228343 \n",
            "\n",
            "Epoch 9\n",
            "-------------------------------\n",
            "loss: 0.594257  [    0/50000]\n",
            "loss: 0.284288  [ 4000/50000]\n",
            "loss: 0.138131  [ 8000/50000]\n",
            "loss: 1.422596  [12000/50000]\n",
            "loss: 0.154282  [16000/50000]\n",
            "loss: 0.432838  [20000/50000]\n",
            "loss: 0.486245  [24000/50000]\n",
            "loss: 0.995325  [28000/50000]\n",
            "loss: 0.425211  [32000/50000]\n",
            "loss: 0.839929  [36000/50000]\n",
            "loss: 0.028454  [40000/50000]\n",
            "loss: 0.393158  [44000/50000]\n",
            "loss: 2.090848  [48000/50000]\n",
            "Test Error: \n",
            " Accuracy: 69.4%, Avg loss: 0.229073 \n",
            "\n",
            "Epoch 10\n",
            "-------------------------------\n",
            "loss: 0.361948  [    0/50000]\n",
            "loss: 0.941364  [ 4000/50000]\n",
            "loss: 0.632017  [ 8000/50000]\n",
            "loss: 0.489420  [12000/50000]\n",
            "loss: 0.939728  [16000/50000]\n",
            "loss: 0.326479  [20000/50000]\n",
            "loss: 0.350862  [24000/50000]\n",
            "loss: 0.837333  [28000/50000]\n",
            "loss: 0.149978  [32000/50000]\n",
            "loss: 2.241791  [36000/50000]\n",
            "loss: 0.342548  [40000/50000]\n",
            "loss: 1.196486  [44000/50000]\n",
            "loss: 0.392623  [48000/50000]\n",
            "Test Error: \n",
            " Accuracy: 70.6%, Avg loss: 0.222995 \n",
            "\n",
            "Epoch 11\n",
            "-------------------------------\n",
            "loss: 0.908959  [    0/50000]\n",
            "loss: 0.392492  [ 4000/50000]\n",
            "loss: 0.378466  [ 8000/50000]\n",
            "loss: 1.707169  [12000/50000]\n",
            "loss: 0.425106  [16000/50000]\n",
            "loss: 1.865015  [20000/50000]\n",
            "loss: 0.594767  [24000/50000]\n",
            "loss: 1.387122  [28000/50000]\n",
            "loss: 0.263571  [32000/50000]\n",
            "loss: 1.129194  [36000/50000]\n",
            "loss: 0.731470  [40000/50000]\n",
            "loss: 0.626160  [44000/50000]\n",
            "loss: 0.484372  [48000/50000]\n",
            "Test Error: \n",
            " Accuracy: 70.6%, Avg loss: 0.223232 \n",
            "\n",
            "Epoch 12\n",
            "-------------------------------\n",
            "loss: 0.471199  [    0/50000]\n",
            "loss: 0.308156  [ 4000/50000]\n",
            "loss: 0.159009  [ 8000/50000]\n",
            "loss: 0.170044  [12000/50000]\n",
            "loss: 0.580283  [16000/50000]\n",
            "loss: 0.572990  [20000/50000]\n",
            "loss: 0.333754  [24000/50000]\n",
            "loss: 0.694915  [28000/50000]\n",
            "loss: 0.429025  [32000/50000]\n",
            "loss: 0.993609  [36000/50000]\n",
            "loss: 0.349248  [40000/50000]\n",
            "loss: 0.118771  [44000/50000]\n",
            "loss: 0.570499  [48000/50000]\n",
            "Test Error: \n",
            " Accuracy: 71.0%, Avg loss: 0.222107 \n",
            "\n",
            "Epoch 13\n",
            "-------------------------------\n",
            "loss: 1.644303  [    0/50000]\n",
            "loss: 0.324422  [ 4000/50000]\n",
            "loss: 0.990890  [ 8000/50000]\n",
            "loss: 0.381972  [12000/50000]\n",
            "loss: 0.034504  [16000/50000]\n",
            "loss: 0.061343  [20000/50000]\n",
            "loss: 0.638661  [24000/50000]\n",
            "loss: 0.036944  [28000/50000]\n",
            "loss: 0.422303  [32000/50000]\n",
            "loss: 1.241435  [36000/50000]\n",
            "loss: 1.421309  [40000/50000]\n",
            "loss: 0.615260  [44000/50000]\n",
            "loss: 0.234748  [48000/50000]\n",
            "Test Error: \n",
            " Accuracy: 70.6%, Avg loss: 0.224471 \n",
            "\n",
            "Epoch 14\n",
            "-------------------------------\n",
            "loss: 0.405743  [    0/50000]\n",
            "loss: 0.604123  [ 4000/50000]\n",
            "loss: 0.247918  [ 8000/50000]\n",
            "loss: 1.235485  [12000/50000]\n",
            "loss: 1.231293  [16000/50000]\n",
            "loss: 0.032617  [20000/50000]\n",
            "loss: 0.279594  [24000/50000]\n",
            "loss: 0.284249  [28000/50000]\n",
            "loss: 0.282103  [32000/50000]\n",
            "loss: 0.308015  [36000/50000]\n",
            "loss: 0.169165  [40000/50000]\n",
            "loss: 0.375042  [44000/50000]\n",
            "loss: 0.447942  [48000/50000]\n",
            "Test Error: \n",
            " Accuracy: 71.7%, Avg loss: 0.221445 \n",
            "\n",
            "Epoch 15\n",
            "-------------------------------\n",
            "loss: 0.358290  [    0/50000]\n",
            "loss: 0.111395  [ 4000/50000]\n",
            "loss: 0.256668  [ 8000/50000]\n",
            "loss: 0.871655  [12000/50000]\n",
            "loss: 0.274132  [16000/50000]\n",
            "loss: 0.514717  [20000/50000]\n",
            "loss: 0.519640  [24000/50000]\n",
            "loss: 0.781350  [28000/50000]\n",
            "loss: 0.022174  [32000/50000]\n",
            "loss: 0.050836  [36000/50000]\n",
            "loss: 0.820242  [40000/50000]\n",
            "loss: 0.011594  [44000/50000]\n",
            "loss: 0.928522  [48000/50000]\n",
            "Test Error: \n",
            " Accuracy: 71.3%, Avg loss: 0.225372 \n",
            "\n",
            "Epoch 16\n",
            "-------------------------------\n",
            "loss: 0.049655  [    0/50000]\n",
            "loss: 0.324657  [ 4000/50000]\n",
            "loss: 0.273520  [ 8000/50000]\n",
            "loss: 0.074803  [12000/50000]\n",
            "loss: 0.771845  [16000/50000]\n",
            "loss: 0.109018  [20000/50000]\n",
            "loss: 0.141641  [24000/50000]\n",
            "loss: 0.399409  [28000/50000]\n",
            "loss: 0.824304  [32000/50000]\n",
            "loss: 0.381833  [36000/50000]\n",
            "loss: 0.161675  [40000/50000]\n",
            "loss: 0.557501  [44000/50000]\n",
            "loss: 1.511556  [48000/50000]\n",
            "Test Error: \n",
            " Accuracy: 71.0%, Avg loss: 0.227176 \n",
            "\n",
            "Epoch 17\n",
            "-------------------------------\n",
            "loss: 0.653919  [    0/50000]\n",
            "loss: 0.106603  [ 4000/50000]\n",
            "loss: 0.034051  [ 8000/50000]\n",
            "loss: 0.080902  [12000/50000]\n",
            "loss: 0.466564  [16000/50000]\n",
            "loss: 1.364110  [20000/50000]\n",
            "loss: 0.116277  [24000/50000]\n",
            "loss: 0.840900  [28000/50000]\n",
            "loss: 0.074584  [32000/50000]\n",
            "loss: 0.272439  [36000/50000]\n",
            "loss: 0.051837  [40000/50000]\n",
            "loss: 1.344339  [44000/50000]\n",
            "loss: 0.561143  [48000/50000]\n",
            "Test Error: \n",
            " Accuracy: 71.6%, Avg loss: 0.228699 \n",
            "\n",
            "Epoch 18\n",
            "-------------------------------\n",
            "loss: 0.218573  [    0/50000]\n",
            "loss: 0.279644  [ 4000/50000]\n",
            "loss: 0.952938  [ 8000/50000]\n",
            "loss: 0.559343  [12000/50000]\n",
            "loss: 0.371322  [16000/50000]\n",
            "loss: 0.319657  [20000/50000]\n",
            "loss: 0.018014  [24000/50000]\n",
            "loss: 0.145681  [28000/50000]\n",
            "loss: 0.497950  [32000/50000]\n",
            "loss: 0.300429  [36000/50000]\n",
            "loss: 0.802832  [40000/50000]\n",
            "loss: 0.553141  [44000/50000]\n",
            "loss: 0.362208  [48000/50000]\n",
            "Test Error: \n",
            " Accuracy: 71.2%, Avg loss: 0.231789 \n",
            "\n",
            "Epoch 19\n",
            "-------------------------------\n",
            "loss: 0.104286  [    0/50000]\n",
            "loss: 0.165326  [ 4000/50000]\n",
            "loss: 0.240442  [ 8000/50000]\n",
            "loss: 0.531783  [12000/50000]\n",
            "loss: 0.300975  [16000/50000]\n",
            "loss: 0.136290  [20000/50000]\n",
            "loss: 0.708571  [24000/50000]\n",
            "loss: 0.005471  [28000/50000]\n",
            "loss: 0.493645  [32000/50000]\n",
            "loss: 0.183313  [36000/50000]\n",
            "loss: 0.354931  [40000/50000]\n",
            "loss: 0.162504  [44000/50000]\n",
            "loss: 0.257609  [48000/50000]\n",
            "Test Error: \n",
            " Accuracy: 72.0%, Avg loss: 0.233816 \n",
            "\n",
            "Epoch 20\n",
            "-------------------------------\n",
            "loss: 0.281226  [    0/50000]\n",
            "loss: 0.560969  [ 4000/50000]\n",
            "loss: 0.091054  [ 8000/50000]\n",
            "loss: 0.487043  [12000/50000]\n",
            "loss: 0.099369  [16000/50000]\n",
            "loss: 0.167086  [20000/50000]\n",
            "loss: 0.779468  [24000/50000]\n",
            "loss: 0.160857  [28000/50000]\n",
            "loss: 0.151617  [32000/50000]\n",
            "loss: 0.846735  [36000/50000]\n",
            "loss: 0.498503  [40000/50000]\n",
            "loss: 0.523834  [44000/50000]\n",
            "loss: 0.170079  [48000/50000]\n",
            "Test Error: \n",
            " Accuracy: 72.0%, Avg loss: 0.238184 \n",
            "\n",
            "Done!\n"
          ],
          "name": "stdout"
        }
      ]
    },
    {
      "cell_type": "code",
      "metadata": {
        "pycharm": {
          "name": "#%%\n"
        },
        "id": "yuiViXqBYDXP"
      },
      "source": [
        "torch.save(model, \"./model_epoch20.pth\")"
      ],
      "execution_count": 17,
      "outputs": []
    },
    {
      "cell_type": "code",
      "metadata": {
        "id": "dhPOf_5NrojO"
      },
      "source": [
        "model = SimpleNeuralNetwork().to(device)\n",
        "loss_fn = nn.CrossEntropyLoss()\n",
        "optimizer = torch.optim.Adam(model.parameters(), lr=0.01)"
      ],
      "execution_count": 20,
      "outputs": []
    },
    {
      "cell_type": "code",
      "metadata": {
        "colab": {
          "base_uri": "https://localhost:8080/",
          "height": 1000
        },
        "id": "GbTcMBAZrnA-",
        "outputId": "229e7152-b5f5-45cf-e17a-8abd83b8f831"
      },
      "source": [
        "epochs = 20\n",
        "for t in range(epochs):\n",
        "    print(f\"Epoch {t+1}\\n-------------------------------\")\n",
        "    train_loop(train_dataloader, model, loss_fn, optimizer)\n",
        "    test_loop(test_dataloader, model, loss_fn)\n",
        "print(\"Done!\")"
      ],
      "execution_count": 21,
      "outputs": [
        {
          "output_type": "stream",
          "text": [
            "Epoch 1\n",
            "-------------------------------\n",
            "loss: 2.361213  [    0/50000]\n",
            "loss: 2.274453  [ 4000/50000]\n",
            "loss: 2.306742  [ 8000/50000]\n",
            "loss: 2.319102  [12000/50000]\n",
            "loss: 2.349589  [16000/50000]\n",
            "loss: 2.324081  [20000/50000]\n",
            "loss: 2.291013  [24000/50000]\n",
            "loss: 2.354437  [28000/50000]\n",
            "loss: 2.380514  [32000/50000]\n",
            "loss: 2.271056  [36000/50000]\n",
            "loss: 2.388054  [40000/50000]\n",
            "loss: 2.313551  [44000/50000]\n",
            "loss: 2.270240  [48000/50000]\n",
            "Test Error: \n",
            " Accuracy: 10.0%, Avg loss: 0.576504 \n",
            "\n",
            "Epoch 2\n",
            "-------------------------------\n",
            "loss: 2.320681  [    0/50000]\n",
            "loss: 2.266017  [ 4000/50000]\n",
            "loss: 2.315230  [ 8000/50000]\n",
            "loss: 2.293490  [12000/50000]\n",
            "loss: 2.313237  [16000/50000]\n",
            "loss: 2.291718  [20000/50000]\n",
            "loss: 2.284229  [24000/50000]\n",
            "loss: 2.320760  [28000/50000]\n",
            "loss: 2.414521  [32000/50000]\n",
            "loss: 2.327467  [36000/50000]\n",
            "loss: 2.292341  [40000/50000]\n",
            "loss: 2.290012  [44000/50000]\n",
            "loss: 2.323450  [48000/50000]\n",
            "Test Error: \n",
            " Accuracy: 10.0%, Avg loss: 0.576196 \n",
            "\n",
            "Epoch 3\n",
            "-------------------------------\n",
            "loss: 2.344142  [    0/50000]\n",
            "loss: 2.357172  [ 4000/50000]\n",
            "loss: 2.260108  [ 8000/50000]\n",
            "loss: 2.333028  [12000/50000]\n",
            "loss: 2.306255  [16000/50000]\n",
            "loss: 2.253038  [20000/50000]\n",
            "loss: 2.315430  [24000/50000]\n",
            "loss: 2.311412  [28000/50000]\n",
            "loss: 2.333468  [32000/50000]\n",
            "loss: 2.279877  [36000/50000]\n",
            "loss: 2.348573  [40000/50000]\n",
            "loss: 2.250597  [44000/50000]\n",
            "loss: 2.302583  [48000/50000]\n",
            "Test Error: \n",
            " Accuracy: 10.0%, Avg loss: 0.576501 \n",
            "\n",
            "Epoch 4\n",
            "-------------------------------\n",
            "loss: 2.296169  [    0/50000]\n",
            "loss: 2.358895  [ 4000/50000]\n",
            "loss: 2.293428  [ 8000/50000]\n",
            "loss: 2.283666  [12000/50000]\n",
            "loss: 2.304875  [16000/50000]\n",
            "loss: 2.319448  [20000/50000]\n",
            "loss: 2.381121  [24000/50000]\n",
            "loss: 2.406644  [28000/50000]\n",
            "loss: 2.174545  [32000/50000]\n",
            "loss: 2.217445  [36000/50000]\n",
            "loss: 2.330621  [40000/50000]\n",
            "loss: 2.276264  [44000/50000]\n",
            "loss: 2.288317  [48000/50000]\n",
            "Test Error: \n",
            " Accuracy: 10.0%, Avg loss: 0.576329 \n",
            "\n",
            "Epoch 5\n",
            "-------------------------------\n",
            "loss: 2.262210  [    0/50000]\n",
            "loss: 2.315637  [ 4000/50000]\n",
            "loss: 2.280145  [ 8000/50000]\n",
            "loss: 2.283317  [12000/50000]\n",
            "loss: 2.321358  [16000/50000]\n",
            "loss: 2.327774  [20000/50000]\n",
            "loss: 2.237518  [24000/50000]\n",
            "loss: 2.342632  [28000/50000]\n",
            "loss: 2.316983  [32000/50000]\n",
            "loss: 2.310467  [36000/50000]\n",
            "loss: 2.357339  [40000/50000]\n",
            "loss: 2.298334  [44000/50000]\n",
            "loss: 2.356873  [48000/50000]\n",
            "Test Error: \n",
            " Accuracy: 10.0%, Avg loss: 0.576623 \n",
            "\n",
            "Epoch 6\n",
            "-------------------------------\n",
            "loss: 2.287323  [    0/50000]\n",
            "loss: 2.311498  [ 4000/50000]\n",
            "loss: 2.306275  [ 8000/50000]\n",
            "loss: 2.331418  [12000/50000]\n",
            "loss: 2.391577  [16000/50000]\n",
            "loss: 2.346399  [20000/50000]\n",
            "loss: 2.374651  [24000/50000]\n",
            "loss: 2.301803  [28000/50000]\n",
            "loss: 2.320039  [32000/50000]\n",
            "loss: 2.304101  [36000/50000]\n",
            "loss: 2.525559  [40000/50000]\n",
            "loss: 2.293306  [44000/50000]\n",
            "loss: 2.345458  [48000/50000]\n",
            "Test Error: \n",
            " Accuracy: 10.0%, Avg loss: 0.576443 \n",
            "\n",
            "Epoch 7\n",
            "-------------------------------\n",
            "loss: 2.345652  [    0/50000]\n",
            "loss: 2.265620  [ 4000/50000]\n",
            "loss: 2.336727  [ 8000/50000]\n",
            "loss: 2.278276  [12000/50000]\n",
            "loss: 2.263230  [16000/50000]\n",
            "loss: 2.264827  [20000/50000]\n",
            "loss: 2.400930  [24000/50000]\n",
            "loss: 2.304175  [28000/50000]\n",
            "loss: 2.255111  [32000/50000]\n",
            "loss: 2.273851  [36000/50000]\n",
            "loss: 2.301220  [40000/50000]\n",
            "loss: 2.388211  [44000/50000]\n",
            "loss: 2.364807  [48000/50000]\n",
            "Test Error: \n",
            " Accuracy: 10.0%, Avg loss: 0.576038 \n",
            "\n",
            "Epoch 8\n",
            "-------------------------------\n",
            "loss: 2.292951  [    0/50000]\n",
            "loss: 2.343075  [ 4000/50000]\n",
            "loss: 2.329699  [ 8000/50000]\n",
            "loss: 2.295696  [12000/50000]\n",
            "loss: 2.253392  [16000/50000]\n",
            "loss: 2.377167  [20000/50000]\n",
            "loss: 2.258289  [24000/50000]\n",
            "loss: 2.355844  [28000/50000]\n",
            "loss: 2.283674  [32000/50000]\n",
            "loss: 2.279214  [36000/50000]\n",
            "loss: 2.357769  [40000/50000]\n",
            "loss: 2.287913  [44000/50000]\n",
            "loss: 2.311952  [48000/50000]\n",
            "Test Error: \n",
            " Accuracy: 10.0%, Avg loss: 0.578183 \n",
            "\n",
            "Epoch 9\n",
            "-------------------------------\n",
            "loss: 2.309532  [    0/50000]\n",
            "loss: 2.305187  [ 4000/50000]\n",
            "loss: 2.338336  [ 8000/50000]\n",
            "loss: 2.266826  [12000/50000]\n",
            "loss: 2.353573  [16000/50000]\n",
            "loss: 2.279050  [20000/50000]\n",
            "loss: 2.295675  [24000/50000]\n",
            "loss: 2.312184  [28000/50000]\n",
            "loss: 2.281008  [32000/50000]\n",
            "loss: 2.297986  [36000/50000]\n",
            "loss: 2.318844  [40000/50000]\n",
            "loss: 2.325293  [44000/50000]\n",
            "loss: 2.329176  [48000/50000]\n",
            "Test Error: \n",
            " Accuracy: 10.0%, Avg loss: 0.576388 \n",
            "\n",
            "Epoch 10\n",
            "-------------------------------\n",
            "loss: 2.323770  [    0/50000]\n",
            "loss: 2.342142  [ 4000/50000]\n",
            "loss: 2.379681  [ 8000/50000]\n",
            "loss: 2.350717  [12000/50000]\n",
            "loss: 2.323514  [16000/50000]\n",
            "loss: 2.229124  [20000/50000]\n",
            "loss: 2.316882  [24000/50000]\n",
            "loss: 2.330273  [28000/50000]\n",
            "loss: 2.284516  [32000/50000]\n",
            "loss: 2.211588  [36000/50000]\n",
            "loss: 2.372489  [40000/50000]\n",
            "loss: 2.268917  [44000/50000]\n",
            "loss: 2.274998  [48000/50000]\n",
            "Test Error: \n",
            " Accuracy: 10.0%, Avg loss: 0.576179 \n",
            "\n",
            "Epoch 11\n",
            "-------------------------------\n",
            "loss: 2.262238  [    0/50000]\n",
            "loss: 2.294096  [ 4000/50000]\n",
            "loss: 2.297376  [ 8000/50000]\n",
            "loss: 2.345733  [12000/50000]\n",
            "loss: 2.288116  [16000/50000]\n",
            "loss: 2.335612  [20000/50000]\n",
            "loss: 2.336540  [24000/50000]\n",
            "loss: 2.282710  [28000/50000]\n",
            "loss: 2.287760  [32000/50000]\n",
            "loss: 2.291882  [36000/50000]\n",
            "loss: 2.278647  [40000/50000]\n",
            "loss: 2.272413  [44000/50000]\n",
            "loss: 2.361082  [48000/50000]\n",
            "Test Error: \n",
            " Accuracy: 10.0%, Avg loss: 0.576462 \n",
            "\n",
            "Epoch 12\n",
            "-------------------------------\n",
            "loss: 2.320392  [    0/50000]\n",
            "loss: 2.285186  [ 4000/50000]\n",
            "loss: 2.303543  [ 8000/50000]\n",
            "loss: 2.403554  [12000/50000]\n",
            "loss: 2.286932  [16000/50000]\n",
            "loss: 2.235659  [20000/50000]\n",
            "loss: 2.247918  [24000/50000]\n",
            "loss: 2.350312  [28000/50000]\n",
            "loss: 2.298922  [32000/50000]\n",
            "loss: 2.272953  [36000/50000]\n",
            "loss: 2.305028  [40000/50000]\n",
            "loss: 2.361339  [44000/50000]\n",
            "loss: 2.317361  [48000/50000]\n",
            "Test Error: \n",
            " Accuracy: 10.0%, Avg loss: 0.577129 \n",
            "\n",
            "Epoch 13\n",
            "-------------------------------\n",
            "loss: 2.375488  [    0/50000]\n",
            "loss: 2.386702  [ 4000/50000]\n",
            "loss: 2.314670  [ 8000/50000]\n",
            "loss: 2.300692  [12000/50000]\n",
            "loss: 2.315779  [16000/50000]\n"
          ],
          "name": "stdout"
        },
        {
          "output_type": "error",
          "ename": "KeyboardInterrupt",
          "evalue": "ignored",
          "traceback": [
            "\u001b[0;31m---------------------------------------------------------------------------\u001b[0m",
            "\u001b[0;31mKeyboardInterrupt\u001b[0m                         Traceback (most recent call last)",
            "\u001b[0;32m<ipython-input-21-5bd07fcedd97>\u001b[0m in \u001b[0;36m<module>\u001b[0;34m()\u001b[0m\n\u001b[1;32m      2\u001b[0m \u001b[0;32mfor\u001b[0m \u001b[0mt\u001b[0m \u001b[0;32min\u001b[0m \u001b[0mrange\u001b[0m\u001b[0;34m(\u001b[0m\u001b[0mepochs\u001b[0m\u001b[0;34m)\u001b[0m\u001b[0;34m:\u001b[0m\u001b[0;34m\u001b[0m\u001b[0;34m\u001b[0m\u001b[0m\n\u001b[1;32m      3\u001b[0m     \u001b[0mprint\u001b[0m\u001b[0;34m(\u001b[0m\u001b[0;34mf\"Epoch {t+1}\\n-------------------------------\"\u001b[0m\u001b[0;34m)\u001b[0m\u001b[0;34m\u001b[0m\u001b[0;34m\u001b[0m\u001b[0m\n\u001b[0;32m----> 4\u001b[0;31m     \u001b[0mtrain_loop\u001b[0m\u001b[0;34m(\u001b[0m\u001b[0mtrain_dataloader\u001b[0m\u001b[0;34m,\u001b[0m \u001b[0mmodel\u001b[0m\u001b[0;34m,\u001b[0m \u001b[0mloss_fn\u001b[0m\u001b[0;34m,\u001b[0m \u001b[0moptimizer\u001b[0m\u001b[0;34m)\u001b[0m\u001b[0;34m\u001b[0m\u001b[0;34m\u001b[0m\u001b[0m\n\u001b[0m\u001b[1;32m      5\u001b[0m     \u001b[0mtest_loop\u001b[0m\u001b[0;34m(\u001b[0m\u001b[0mtest_dataloader\u001b[0m\u001b[0;34m,\u001b[0m \u001b[0mmodel\u001b[0m\u001b[0;34m,\u001b[0m \u001b[0mloss_fn\u001b[0m\u001b[0;34m)\u001b[0m\u001b[0;34m\u001b[0m\u001b[0;34m\u001b[0m\u001b[0m\n\u001b[1;32m      6\u001b[0m \u001b[0mprint\u001b[0m\u001b[0;34m(\u001b[0m\u001b[0;34m\"Done!\"\u001b[0m\u001b[0;34m)\u001b[0m\u001b[0;34m\u001b[0m\u001b[0;34m\u001b[0m\u001b[0m\n",
            "\u001b[0;32m<ipython-input-14-741f5dd4fdcb>\u001b[0m in \u001b[0;36mtrain_loop\u001b[0;34m(dataloader, model, loss_fn, optimizer)\u001b[0m\n\u001b[1;32m      8\u001b[0m         \u001b[0;31m# Backpropagation\u001b[0m\u001b[0;34m\u001b[0m\u001b[0;34m\u001b[0m\u001b[0;34m\u001b[0m\u001b[0m\n\u001b[1;32m      9\u001b[0m         \u001b[0moptimizer\u001b[0m\u001b[0;34m.\u001b[0m\u001b[0mzero_grad\u001b[0m\u001b[0;34m(\u001b[0m\u001b[0;34m)\u001b[0m\u001b[0;34m\u001b[0m\u001b[0;34m\u001b[0m\u001b[0m\n\u001b[0;32m---> 10\u001b[0;31m         \u001b[0mloss\u001b[0m\u001b[0;34m.\u001b[0m\u001b[0mbackward\u001b[0m\u001b[0;34m(\u001b[0m\u001b[0;34m)\u001b[0m\u001b[0;34m\u001b[0m\u001b[0;34m\u001b[0m\u001b[0m\n\u001b[0m\u001b[1;32m     11\u001b[0m         \u001b[0moptimizer\u001b[0m\u001b[0;34m.\u001b[0m\u001b[0mstep\u001b[0m\u001b[0;34m(\u001b[0m\u001b[0;34m)\u001b[0m\u001b[0;34m\u001b[0m\u001b[0;34m\u001b[0m\u001b[0m\n\u001b[1;32m     12\u001b[0m \u001b[0;34m\u001b[0m\u001b[0m\n",
            "\u001b[0;32m/usr/local/lib/python3.7/dist-packages/torch/_tensor.py\u001b[0m in \u001b[0;36mbackward\u001b[0;34m(self, gradient, retain_graph, create_graph, inputs)\u001b[0m\n\u001b[1;32m    253\u001b[0m                 \u001b[0mcreate_graph\u001b[0m\u001b[0;34m=\u001b[0m\u001b[0mcreate_graph\u001b[0m\u001b[0;34m,\u001b[0m\u001b[0;34m\u001b[0m\u001b[0;34m\u001b[0m\u001b[0m\n\u001b[1;32m    254\u001b[0m                 inputs=inputs)\n\u001b[0;32m--> 255\u001b[0;31m         \u001b[0mtorch\u001b[0m\u001b[0;34m.\u001b[0m\u001b[0mautograd\u001b[0m\u001b[0;34m.\u001b[0m\u001b[0mbackward\u001b[0m\u001b[0;34m(\u001b[0m\u001b[0mself\u001b[0m\u001b[0;34m,\u001b[0m \u001b[0mgradient\u001b[0m\u001b[0;34m,\u001b[0m \u001b[0mretain_graph\u001b[0m\u001b[0;34m,\u001b[0m \u001b[0mcreate_graph\u001b[0m\u001b[0;34m,\u001b[0m \u001b[0minputs\u001b[0m\u001b[0;34m=\u001b[0m\u001b[0minputs\u001b[0m\u001b[0;34m)\u001b[0m\u001b[0;34m\u001b[0m\u001b[0;34m\u001b[0m\u001b[0m\n\u001b[0m\u001b[1;32m    256\u001b[0m \u001b[0;34m\u001b[0m\u001b[0m\n\u001b[1;32m    257\u001b[0m     \u001b[0;32mdef\u001b[0m \u001b[0mregister_hook\u001b[0m\u001b[0;34m(\u001b[0m\u001b[0mself\u001b[0m\u001b[0;34m,\u001b[0m \u001b[0mhook\u001b[0m\u001b[0;34m)\u001b[0m\u001b[0;34m:\u001b[0m\u001b[0;34m\u001b[0m\u001b[0;34m\u001b[0m\u001b[0m\n",
            "\u001b[0;32m/usr/local/lib/python3.7/dist-packages/torch/autograd/__init__.py\u001b[0m in \u001b[0;36mbackward\u001b[0;34m(tensors, grad_tensors, retain_graph, create_graph, grad_variables, inputs)\u001b[0m\n\u001b[1;32m    147\u001b[0m     Variable._execution_engine.run_backward(\n\u001b[1;32m    148\u001b[0m         \u001b[0mtensors\u001b[0m\u001b[0;34m,\u001b[0m \u001b[0mgrad_tensors_\u001b[0m\u001b[0;34m,\u001b[0m \u001b[0mretain_graph\u001b[0m\u001b[0;34m,\u001b[0m \u001b[0mcreate_graph\u001b[0m\u001b[0;34m,\u001b[0m \u001b[0minputs\u001b[0m\u001b[0;34m,\u001b[0m\u001b[0;34m\u001b[0m\u001b[0;34m\u001b[0m\u001b[0m\n\u001b[0;32m--> 149\u001b[0;31m         allow_unreachable=True, accumulate_grad=True)  # allow_unreachable flag\n\u001b[0m\u001b[1;32m    150\u001b[0m \u001b[0;34m\u001b[0m\u001b[0m\n\u001b[1;32m    151\u001b[0m \u001b[0;34m\u001b[0m\u001b[0m\n",
            "\u001b[0;31mKeyboardInterrupt\u001b[0m: "
          ]
        }
      ]
    },
    {
      "cell_type": "markdown",
      "metadata": {
        "collapsed": false,
        "pycharm": {
          "name": "#%% md\n"
        },
        "id": "htQXj0AjYDXP"
      },
      "source": [
        ""
      ]
    }
  ]
}